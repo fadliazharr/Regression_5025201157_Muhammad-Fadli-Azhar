{
 "cells": [
  {
   "cell_type": "code",
   "execution_count": null,
   "metadata": {
    "application/vnd.databricks.v1+cell": {
     "cellMetadata": {
      "byteLimit": 2048000,
      "rowLimit": 10000
     },
     "inputWidgets": {},
     "nuid": "fd3f26bc-50b3-49db-a91f-cf53de53e308",
     "showTitle": false,
     "title": ""
    }
   },
   "outputs": [
    {
     "name": "stdout",
     "output_type": "stream",
     "text": [
      "root\n",
      " |-- features: vector (nullable = true)\n",
      " |-- label: double (nullable = true)\n",
      "\n",
      "+--------------+-----+\n",
      "|      features|label|\n",
      "+--------------+-----+\n",
      "|[3.0,10.1,3.0]|  2.0|\n",
      "| [2.0,1.1,1.0]|  1.0|\n",
      "|[1.0,0.1,-1.0]|  0.0|\n",
      "|[1.0,0.1,-1.0]|  0.0|\n",
      "| [2.0,4.1,1.0]|  2.0|\n",
      "+--------------+-----+\n",
      "\n"
     ]
    }
   ],
   "source": [
    "\n",
    "file_path = \"dbfs:/FileStore/shared_uploads/fadliazhar66@gmail.com/data/regression/\"\n",
    "\n",
    "# Reading all Parquet files in a directory\n",
    "df = spark.read.parquet(file_path)\n",
    "\n",
    "# Displaying the schema of the dataframe\n",
    "df.printSchema()\n",
    "\n",
    "# Displaying some rows of data\n",
    "df.show()\n"
   ]
  },
  {
   "cell_type": "code",
   "execution_count": null,
   "metadata": {},
   "outputs": [],
   "source": [
    "# This Python code uses the PySpark library for machine learning, particularly the `LinearRegression` module, to create a linear regression model. It sets specific parameters for the linear regression model, such as the maximum number of iterations (`setMaxIter`), regularization parameter (`setRegParam`), and elastic net mixing parameter (`setElasticNetParam`). The `explainParams()` method is then used to print a summary of the parameters and their current values. Finally, the linear regression model is fitted to a DataFrame `df` using the `fit` method, and the resulting model is stored in the variable `lrModel`. The model is trained on the data in the DataFrame, and the parameters specified earlier influence the training process.\n",
    "from pyspark.ml.regression import LinearRegression\n",
    "\n",
    "lr = LinearRegression().setMaxIter(10).setRegParam(0.3).setElasticNetParam(0.8)\n",
    "print(lr.explainParams())  \n",
    "lrModel = lr.fit(df)"
   ]
  },
  {
   "cell_type": "code",
   "execution_count": null,
   "metadata": {
    "application/vnd.databricks.v1+cell": {
     "cellMetadata": {
      "byteLimit": 2048000,
      "rowLimit": 10000
     },
     "inputWidgets": {},
     "nuid": "823e93a3-9c0d-494c-b902-c01b2a3208c5",
     "showTitle": false,
     "title": ""
    }
   },
   "outputs": [
    {
     "name": "stdout",
     "output_type": "stream",
     "text": [
      "+--------------------+\n",
      "|           residuals|\n",
      "+--------------------+\n",
      "| 0.12805046585610147|\n",
      "| -0.1446826926157201|\n",
      "|-0.41903832622420606|\n",
      "|-0.41903832622420606|\n",
      "|  0.8547088792080306|\n",
      "+--------------------+\n",
      "\n",
      "5\n",
      "[0.5000000000000001, 0.43152958103627864, 0.313233593388102, 0.312256926665541, 0.30915060819830303, 0.30915058933480266]\n",
      "0.47308424392175985\n",
      "0.720239122691221\n"
     ]
    }
   ],
   "source": [
    "# In this Python code, the `lrModel` variable holds a trained linear regression model. By accessing its summary, various insights about the model's performance are obtained. The `summary.residuals.show()` line displays the residuals, representing the differences between the predicted and actual values from the model on the dataset. The `summary.totalIterations` prints the total number of iterations performed during the model training. The `summary.objectiveHistory` provides a history of objective function values at each iteration during training. The `summary.rootMeanSquaredError` gives the root mean squared error, a measure of the model's prediction accuracy. Finally, `summary.r2` prints the R-squared value, indicating how well the model explains the variance in the data. These summary statistics collectively offer a comprehensive overview of the linear regression model's characteristics and performance on the given dataset.\n",
    "summary = lrModel.summary\n",
    "summary.residuals.show()\n",
    "print (summary.totalIterations)\n",
    "print (summary.objectiveHistory)\n",
    "print (summary.rootMeanSquaredError)\n",
    "print (summary.r2)\n"
   ]
  },
  {
   "cell_type": "code",
   "execution_count": null,
   "metadata": {
    "application/vnd.databricks.v1+cell": {
     "cellMetadata": {
      "byteLimit": 2048000,
      "rowLimit": 10000
     },
     "inputWidgets": {},
     "nuid": "4e65bfbc-1fc5-4acd-929c-692255af2b3c",
     "showTitle": false,
     "title": ""
    }
   },
   "outputs": [
    {
     "name": "stdout",
     "output_type": "stream",
     "text": [
      "aggregationDepth: suggested depth for treeAggregate (>= 2). (default: 2)\n",
      "family: The name of family which is a description of the error distribution to be used in the model. Supported options: gaussian (default), binomial, poisson, gamma and tweedie. (default: gaussian, current: gaussian)\n",
      "featuresCol: features column name. (default: features)\n",
      "fitIntercept: whether to fit an intercept term. (default: True)\n",
      "labelCol: label column name. (default: label)\n",
      "link: The name of link function which provides the relationship between the linear predictor and the mean of the distribution function. Supported options: identity, log, inverse, logit, probit, cloglog and sqrt. (current: identity)\n",
      "linkPower: The index in the power link function. Only applicable to the Tweedie family. (undefined)\n",
      "linkPredictionCol: link prediction (linear predictor) column name (current: linkOut)\n",
      "maxIter: max number of iterations (>= 0). (default: 25, current: 10)\n",
      "offsetCol: The offset column name. If this is not set or empty, we treat all instance offsets as 0.0 (undefined)\n",
      "predictionCol: prediction column name. (default: prediction)\n",
      "regParam: regularization parameter (>= 0). (default: 0.0, current: 0.3)\n",
      "solver: The solver algorithm for optimization. Supported options: irls. (default: irls)\n",
      "tol: the convergence tolerance for iterative algorithms (>= 0). (default: 1e-06)\n",
      "variancePower: The power in the variance function of the Tweedie distribution which characterizes the relationship between the variance and mean of the distribution. Only applicable for the Tweedie family. Supported values: 0 and [1, Inf). (default: 0.0)\n",
      "weightCol: weight column name. If this is not set or empty, we treat all instance weights as 1.0. (undefined)\n"
     ]
    }
   ],
   "source": [
    "# This Python code utilizes PySpark's machine learning library for generalized linear regression (GLR). The `GeneralizedLinearRegression` module is employed to create a GLR model. The specific settings for the model are defined, such as using a Gaussian family (`setFamily(\"gaussian\")`), an identity link function (`setLink(\"identity\")`), a maximum number of iterations (`setMaxIter(10)`), regularization parameter (`setRegParam(0.3)`), and the specification of a column for link prediction (`setLinkPredictionCol(\"linkOut\")`). The `explainParams()` method is then used to print a summary of the model's parameters and their values. Subsequently, the GLR model is fitted to a DataFrame (`df`) using the `fit` method, resulting in the trained model stored in the variable `glrModel`. The parameters specified earlier influence the training process, determining the family of the distribution, link function, regularization, and other characteristics of the generalized linear regression model.\n",
    "from pyspark.ml.regression import GeneralizedLinearRegression\n",
    "glr = GeneralizedLinearRegression()\\\n",
    " .setFamily(\"gaussian\")\\\n",
    " .setLink(\"identity\")\\\n",
    " .setMaxIter(10)\\\n",
    " .setRegParam(0.3)\\\n",
    " .setLinkPredictionCol(\"linkOut\")\n",
    "print (glr.explainParams())\n",
    "glrModel = glr.fit(df)"
   ]
  },
  {
   "cell_type": "code",
   "execution_count": null,
   "metadata": {
    "application/vnd.databricks.v1+cell": {
     "cellMetadata": {
      "byteLimit": 2048000,
      "rowLimit": 10000
     },
     "inputWidgets": {},
     "nuid": "0e800311-3a83-40e3-bc10-ed8d86f6ca1b",
     "showTitle": false,
     "title": ""
    }
   },
   "outputs": [
    {
     "name": "stdout",
     "output_type": "stream",
     "text": [
      "cacheNodeIds: If false, the algorithm will pass trees to executors to match instances with nodes. If true, the algorithm will cache node IDs for each instance. Caching can speed up training of deeper trees. Users can set how often should the cache be checkpointed or disable it by setting checkpointInterval. (default: False)\n",
      "checkpointInterval: set checkpoint interval (>= 1) or disable checkpoint (-1). E.g. 10 means that the cache will get checkpointed every 10 iterations. Note: this setting will be ignored if the checkpoint directory is not set in the SparkContext. (default: 10)\n",
      "featuresCol: features column name. (default: features)\n",
      "impurity: Criterion used for information gain calculation (case-insensitive). Supported options: variance (default: variance)\n",
      "labelCol: label column name. (default: label)\n",
      "leafCol: Leaf indices column name. Predicted leaf index of each instance in each tree by preorder. (default: )\n",
      "maxBins: Max number of bins for discretizing continuous features.  Must be >=2 and >= number of categories for any categorical feature. (default: 32)\n",
      "maxDepth: Maximum depth of the tree. (>= 0) E.g., depth 0 means 1 leaf node; depth 1 means 1 internal node + 2 leaf nodes. Must be in range [0, 30]. (default: 5)\n",
      "maxMemoryInMB: Maximum memory in MB allocated to histogram aggregation. If too small, then 1 node will be split per iteration, and its aggregates may exceed this size. (default: 256)\n",
      "minInfoGain: Minimum information gain for a split to be considered at a tree node. (default: 0.0)\n",
      "minInstancesPerNode: Minimum number of instances each child must have after split. If a split causes the left or right child to have fewer than minInstancesPerNode, the split will be discarded as invalid. Should be >= 1. (default: 1)\n",
      "minWeightFractionPerNode: Minimum fraction of the weighted sample count that each child must have after split. If a split causes the fraction of the total weight in the left or right child to be less than minWeightFractionPerNode, the split will be discarded as invalid. Should be in interval [0.0, 0.5). (default: 0.0)\n",
      "predictionCol: prediction column name. (default: prediction)\n",
      "seed: random seed. (default: -1407754390808368278)\n",
      "varianceCol: column name for the biased sample variance of prediction. (undefined)\n",
      "weightCol: weight column name. If this is not set or empty, we treat all instance weights as 1.0. (undefined)\n"
     ]
    }
   ],
   "source": [
    "# This code employs PySpark's machine learning library for decision tree regression. The `DecisionTreeRegressor` module is utilized to create a decision tree regression model. The default settings for the model are used. The `explainParams()` method is employed to print a summary of the model's parameters and their default values. Subsequently, the decision tree regression model is fitted to a DataFrame (`df`) using the `fit` method, resulting in the trained model stored in the variable `dtrModel`. The parameters can be further customized to influence the training process, but in this instance, the default settings are utilized. The decision tree regression model aims to predict a continuous target variable based on the features in the provided DataFrame.\n",
    "from pyspark.ml.regression import DecisionTreeRegressor\n",
    "dtr = DecisionTreeRegressor()\n",
    "print (dtr.explainParams())\n",
    "dtrModel = dtr.fit(df)"
   ]
  },
  {
   "cell_type": "code",
   "execution_count": null,
   "metadata": {
    "application/vnd.databricks.v1+cell": {
     "cellMetadata": {
      "byteLimit": 2048000,
      "rowLimit": 10000
     },
     "inputWidgets": {},
     "nuid": "67f04e59-7520-485b-9f5e-5dd841c5c04f",
     "showTitle": false,
     "title": ""
    }
   },
   "outputs": [
    {
     "name": "stdout",
     "output_type": "stream",
     "text": [
      "bootstrap: Whether bootstrap samples are used when building trees. (default: True)\n",
      "cacheNodeIds: If false, the algorithm will pass trees to executors to match instances with nodes. If true, the algorithm will cache node IDs for each instance. Caching can speed up training of deeper trees. Users can set how often should the cache be checkpointed or disable it by setting checkpointInterval. (default: False)\n",
      "checkpointInterval: set checkpoint interval (>= 1) or disable checkpoint (-1). E.g. 10 means that the cache will get checkpointed every 10 iterations. Note: this setting will be ignored if the checkpoint directory is not set in the SparkContext. (default: 10)\n",
      "featureSubsetStrategy: The number of features to consider for splits at each tree node. Supported options: 'auto' (choose automatically for task: If numTrees == 1, set to 'all'. If numTrees > 1 (forest), set to 'sqrt' for classification and to 'onethird' for regression), 'all' (use all features), 'onethird' (use 1/3 of the features), 'sqrt' (use sqrt(number of features)), 'log2' (use log2(number of features)), 'n' (when n is in the range (0, 1.0], use n * number of features. When n is in the range (1, number of features), use n features). default = 'auto' (default: auto)\n",
      "featuresCol: features column name. (default: features)\n",
      "impurity: Criterion used for information gain calculation (case-insensitive). Supported options: variance (default: variance)\n",
      "labelCol: label column name. (default: label)\n",
      "leafCol: Leaf indices column name. Predicted leaf index of each instance in each tree by preorder. (default: )\n",
      "maxBins: Max number of bins for discretizing continuous features.  Must be >=2 and >= number of categories for any categorical feature. (default: 32)\n",
      "maxDepth: Maximum depth of the tree. (>= 0) E.g., depth 0 means 1 leaf node; depth 1 means 1 internal node + 2 leaf nodes. Must be in range [0, 30]. (default: 5)\n",
      "maxMemoryInMB: Maximum memory in MB allocated to histogram aggregation. If too small, then 1 node will be split per iteration, and its aggregates may exceed this size. (default: 256)\n",
      "minInfoGain: Minimum information gain for a split to be considered at a tree node. (default: 0.0)\n",
      "minInstancesPerNode: Minimum number of instances each child must have after split. If a split causes the left or right child to have fewer than minInstancesPerNode, the split will be discarded as invalid. Should be >= 1. (default: 1)\n",
      "minWeightFractionPerNode: Minimum fraction of the weighted sample count that each child must have after split. If a split causes the fraction of the total weight in the left or right child to be less than minWeightFractionPerNode, the split will be discarded as invalid. Should be in interval [0.0, 0.5). (default: 0.0)\n",
      "numTrees: Number of trees to train (>= 1). (default: 20)\n",
      "predictionCol: prediction column name. (default: prediction)\n",
      "seed: random seed. (default: 2502083311556356884)\n",
      "subsamplingRate: Fraction of the training data used for learning each decision tree, in range (0, 1]. (default: 1.0)\n",
      "weightCol: weight column name. If this is not set or empty, we treat all instance weights as 1.0. (undefined)\n",
      "cacheNodeIds: If false, the algorithm will pass trees to executors to match instances with nodes. If true, the algorithm will cache node IDs for each instance. Caching can speed up training of deeper trees. Users can set how often should the cache be checkpointed or disable it by setting checkpointInterval. (default: False)\n",
      "checkpointInterval: set checkpoint interval (>= 1) or disable checkpoint (-1). E.g. 10 means that the cache will get checkpointed every 10 iterations. Note: this setting will be ignored if the checkpoint directory is not set in the SparkContext. (default: 10)\n",
      "featureSubsetStrategy: The number of features to consider for splits at each tree node. Supported options: 'auto' (choose automatically for task: If numTrees == 1, set to 'all'. If numTrees > 1 (forest), set to 'sqrt' for classification and to 'onethird' for regression), 'all' (use all features), 'onethird' (use 1/3 of the features), 'sqrt' (use sqrt(number of features)), 'log2' (use log2(number of features)), 'n' (when n is in the range (0, 1.0], use n * number of features. When n is in the range (1, number of features), use n features). default = 'auto' (default: all)\n",
      "featuresCol: features column name. (default: features)\n",
      "impurity: Criterion used for information gain calculation (case-insensitive). Supported options: variance (default: variance)\n",
      "labelCol: label column name. (default: label)\n",
      "leafCol: Leaf indices column name. Predicted leaf index of each instance in each tree by preorder. (default: )\n",
      "lossType: Loss function which GBT tries to minimize (case-insensitive). Supported options: squared, absolute (default: squared)\n",
      "maxBins: Max number of bins for discretizing continuous features.  Must be >=2 and >= number of categories for any categorical feature. (default: 32)\n",
      "maxDepth: Maximum depth of the tree. (>= 0) E.g., depth 0 means 1 leaf node; depth 1 means 1 internal node + 2 leaf nodes. Must be in range [0, 30]. (default: 5)\n",
      "maxIter: max number of iterations (>= 0). (default: 20)\n",
      "maxMemoryInMB: Maximum memory in MB allocated to histogram aggregation. If too small, then 1 node will be split per iteration, and its aggregates may exceed this size. (default: 256)\n",
      "minInfoGain: Minimum information gain for a split to be considered at a tree node. (default: 0.0)\n",
      "minInstancesPerNode: Minimum number of instances each child must have after split. If a split causes the left or right child to have fewer than minInstancesPerNode, the split will be discarded as invalid. Should be >= 1. (default: 1)\n",
      "minWeightFractionPerNode: Minimum fraction of the weighted sample count that each child must have after split. If a split causes the fraction of the total weight in the left or right child to be less than minWeightFractionPerNode, the split will be discarded as invalid. Should be in interval [0.0, 0.5). (default: 0.0)\n",
      "predictionCol: prediction column name. (default: prediction)\n",
      "seed: random seed. (default: -6682481135904123338)\n",
      "stepSize: Step size (a.k.a. learning rate) in interval (0, 1] for shrinking the contribution of each estimator. (default: 0.1)\n",
      "subsamplingRate: Fraction of the training data used for learning each decision tree, in range (0, 1]. (default: 1.0)\n",
      "validationIndicatorCol: name of the column that indicates whether each row is for training or for validation. False indicates training; true indicates validation. (undefined)\n",
      "validationTol: Threshold for stopping early when fit with validation is used. If the error rate on the validation input changes by less than the validationTol, then learning will stop early (before `maxIter`). This parameter is ignored when fit without validation is used. (default: 0.01)\n",
      "weightCol: weight column name. If this is not set or empty, we treat all instance weights as 1.0. (undefined)\n"
     ]
    }
   ],
   "source": [
    "# This code involves PySpark's machine learning library for random forest regression and gradient-boosted tree regression. First, the `RandomForestRegressor` module is utilized to create a random forest regression model with default settings. The `explainParams()` method is then used to print a summary of the model's parameters and their default values. The random forest regression model is subsequently fitted to a DataFrame (`df`), resulting in the trained model stored in the variable `rfModel`. Afterward, the code employs the `GBTRegressor` module to create a gradient-boosted tree regression model with default settings. Similarly, the `explainParams()` method is used to print a summary of the gradient-boosted tree model's parameters and their default values. The gradient-boosted tree regression model is then fitted to the same DataFrame, and the resulting trained model is stored in the variable `gbtModel`. Both random forest and gradient-boosted tree regression models aim to predict a continuous target variable based on the features in the provided DataFrame, with the option to customize various hyperparameters for enhanced performance.\n",
    "from pyspark.ml.regression import RandomForestRegressor\n",
    "from pyspark.ml.regression import GBTRegressor\n",
    "rf = RandomForestRegressor()\n",
    "print (rf.explainParams())\n",
    "rfModel = rf.fit(df)\n",
    "gbt = GBTRegressor()\n",
    "print (gbt.explainParams())\n",
    "gbtModel = gbt.fit(df)"
   ]
  },
  {
   "cell_type": "code",
   "execution_count": null,
   "metadata": {
    "application/vnd.databricks.v1+cell": {
     "cellMetadata": {
      "byteLimit": 2048000,
      "rowLimit": 10000
     },
     "inputWidgets": {},
     "nuid": "328b726e-9a9d-4185-a804-d575af015707",
     "showTitle": false,
     "title": ""
    }
   },
   "outputs": [],
   "source": [
    "# This Python code involves PySpark's machine learning library to perform cross-validated hyperparameter tuning for a generalized linear regression (GLR) model \n",
    "# using the `CrossValidator` and `RegressionEvaluator`. First, a GLR model is instantiated with specified settings for family and link. A pipeline is then created, including the GLR model. Hyperparameter options for regularization are defined using `ParamGridBuilder`. The `RegressionEvaluator` is configured to use root mean squared error (RMSE) as the evaluation metric. The `CrossValidator` is set up with the pipeline, evaluator, hyperparameter grid, and the number of folds for cross-validation. The `fit` method is then called on the cross-validator, using the provided DataFrame (`df`), resulting in the trained model stored in the variable `model`. This approach allows for the systematic testing of different regularization parameters in the generalized linear regression model and the selection of the optimal configuration based on cross-validated performance.\n",
    "from pyspark.ml.evaluation import RegressionEvaluator\n",
    "from pyspark.ml.regression import GeneralizedLinearRegression\n",
    "from pyspark.ml import Pipeline\n",
    "from pyspark.ml.tuning import CrossValidator, ParamGridBuilder\n",
    "glr = GeneralizedLinearRegression().setFamily(\"gaussian\").setLink(\"identity\")\n",
    "pipeline = Pipeline().setStages([glr])\n",
    "params = ParamGridBuilder().addGrid(glr.regParam, [0, 0.5, 1]).build()\n",
    "evaluator = RegressionEvaluator()\\\n",
    " .setMetricName(\"rmse\")\\\n",
    " .setPredictionCol(\"prediction\")\\\n",
    " .setLabelCol(\"label\")\n",
    "cv = CrossValidator()\\\n",
    " .setEstimator(pipeline)\\\n",
    " .setEvaluator(evaluator)\\\n",
    " .setEstimatorParamMaps(params)\\\n",
    " .setNumFolds(2) \n",
    "model = cv.fit(df)"
   ]
  },
  {
   "cell_type": "code",
   "execution_count": null,
   "metadata": {
    "application/vnd.databricks.v1+cell": {
     "cellMetadata": {
      "byteLimit": 2048000,
      "rowLimit": 10000
     },
     "inputWidgets": {},
     "nuid": "47ab60f9-8436-41f9-a74c-7ed3445e8164",
     "showTitle": false,
     "title": ""
    }
   },
   "outputs": [
    {
     "name": "stderr",
     "output_type": "stream",
     "text": [
      "/databricks/spark/python/pyspark/sql/context.py:165: FutureWarning: Deprecated in 3.0.0. Use SparkSession.builder.getOrCreate() instead.\n",
      "  warnings.warn(\n"
     ]
    },
    {
     "name": "stdout",
     "output_type": "stream",
     "text": [
      "MSE: 0.15705521472392636\n",
      "RMSE: 0.39630192369445594\n",
      "R-squared: 0.803680981595092\n",
      "MAE: 0.3141104294478528\n",
      "Explained variance: 0.6429447852760728\n"
     ]
    }
   ],
   "source": [
    "# This Python code utilizes PySpark's `RegressionMetrics` from `pyspark.mllib.evaluation` to compute various regression evaluation metrics for the model's \n",
    "# predictions on the given DataFrame (`df`). The `model.transform(df)` applies the trained model to the DataFrame, and the subsequent `select` statement extracts the \"prediction\" and \"label\" columns. The resulting DataFrame is then converted to an RDD (Resilient Distributed Dataset), where each row is transformed into a tuple of floating-point values. These tuples represent the predicted and actual values. The `RegressionMetrics` class is then applied to this RDD, and various regression metrics are computed. The metrics include the mean squared error (`metrics.meanSquaredError`), root mean squared error (`metrics.rootMeanSquaredError`), R-squared (`metrics.r2`), mean absolute error (`metrics.meanAbsoluteError`), and explained variance (`metrics.explainedVariance`). These metrics provide a comprehensive assessment of the model's performance in terms of prediction accuracy, goodness of fit, and variability explained.\n",
    "\n",
    "from pyspark.mllib.evaluation import RegressionMetrics\n",
    "out = model.transform(df)\\\n",
    " .select(\"prediction\", \"label\").rdd.map(lambda x: (float(x[0]), float(x[1])))\n",
    "metrics = RegressionMetrics(out)\n",
    "print (\"MSE: \" + str(metrics.meanSquaredError))\n",
    "print (\"RMSE: \" + str(metrics.rootMeanSquaredError))\n",
    "print (\"R-squared: \" + str(metrics.r2))\n",
    "print (\"MAE: \" + str(metrics.meanAbsoluteError))\n",
    "print (\"Explained variance: \" + str(metrics.explainedVariance))"
   ]
  }
 ],
 "metadata": {
  "application/vnd.databricks.v1+notebook": {
   "dashboards": [],
   "language": "python",
   "notebookMetadata": {
    "pythonIndentUnit": 4
   },
   "notebookName": "regression_5025201130_farzana afifah razak",
   "widgets": {}
  },
  "kernelspec": {
   "display_name": "Python 3",
   "language": "python",
   "name": "python3"
  },
  "language_info": {
   "codemirror_mode": {
    "name": "ipython",
    "version": 3
   },
   "file_extension": ".py",
   "mimetype": "text/x-python",
   "name": "python",
   "nbconvert_exporter": "python",
   "pygments_lexer": "ipython3",
   "version": "3.11.6"
  }
 },
 "nbformat": 4,
 "nbformat_minor": 0
}
